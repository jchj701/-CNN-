{
 "cells": [
  {
   "cell_type": "code",
   "execution_count": 1,
   "metadata": {},
   "outputs": [],
   "source": [
    "import numpy as np\n",
    "import cv2\n",
    "import os\n",
    "import tensorflow as tf\n",
    "from PIL import Image"
   ]
  },
  {
   "cell_type": "code",
   "execution_count": 2,
   "metadata": {},
   "outputs": [
    {
     "name": "stdout",
     "output_type": "stream",
     "text": [
      "video_path F:/Desktop/TF2/video/beanMilk.mp4\n",
      "picture_output_path F:/Desktop/TF2/picture/beanMilk/\n"
     ]
    }
   ],
   "source": [
    "object_name = 'beanMilk' #'budweiser' 'centrum' 'iceTea' 'brightMilk' 'beanMilk' 'cube'\n",
    "video_file = 'F:/Desktop/TF2/video/'\n",
    "output_name = 'F:/Desktop/TF2/picture/'\n",
    "\n",
    "video_path = os.path.join(video_file + object_name + '.mp4')\n",
    "picture_output_path = os.path.join(output_name  + object_name + '/')\n",
    "print('video_path', video_path)\n",
    "print('picture_output_path', picture_output_path)\n",
    "\n",
    "time = 0\n",
    "frameFrequency = 2"
   ]
  },
  {
   "cell_type": "code",
   "execution_count": 3,
   "metadata": {},
   "outputs": [],
   "source": [
    "def mkdir(path):\n",
    "    isExists=os.path.exists(path)\n",
    " \n",
    "    if not isExists:\n",
    "        os.makedirs(path) \n",
    "        print(path+' 创建成功')\n",
    "        return True\n",
    "    else:\n",
    "        print(path+' 目录已存在')\n",
    "        return False"
   ]
  },
  {
   "cell_type": "code",
   "execution_count": 4,
   "metadata": {
    "scrolled": true
   },
   "outputs": [
    {
     "name": "stdout",
     "output_type": "stream",
     "text": [
      "F:/Desktop/TF2/picture/beanMilk/ 目录已存在\n",
      "F:/Desktop/TF2/picture/beanMilk/beanMilk0.jpg\n",
      "F:/Desktop/TF2/picture/beanMilk/beanMilk10.jpg\n",
      "F:/Desktop/TF2/picture/beanMilk/beanMilk20.jpg\n",
      "F:/Desktop/TF2/picture/beanMilk/beanMilk30.jpg\n",
      "F:/Desktop/TF2/picture/beanMilk/beanMilk40.jpg\n",
      "F:/Desktop/TF2/picture/beanMilk/beanMilk50.jpg\n",
      "F:/Desktop/TF2/picture/beanMilk/beanMilk60.jpg\n",
      "F:/Desktop/TF2/picture/beanMilk/beanMilk70.jpg\n",
      "F:/Desktop/TF2/picture/beanMilk/beanMilk80.jpg\n",
      "F:/Desktop/TF2/picture/beanMilk/beanMilk90.jpg\n",
      "F:/Desktop/TF2/picture/beanMilk/beanMilk100.jpg\n",
      "F:/Desktop/TF2/picture/beanMilk/beanMilk110.jpg\n",
      "F:/Desktop/TF2/picture/beanMilk/beanMilk120.jpg\n",
      "F:/Desktop/TF2/picture/beanMilk/beanMilk130.jpg\n",
      "F:/Desktop/TF2/picture/beanMilk/beanMilk140.jpg\n",
      "F:/Desktop/TF2/picture/beanMilk/beanMilk150.jpg\n",
      "F:/Desktop/TF2/picture/beanMilk/beanMilk160.jpg\n",
      "F:/Desktop/TF2/picture/beanMilk/beanMilk170.jpg\n",
      "F:/Desktop/TF2/picture/beanMilk/beanMilk180.jpg\n",
      "F:/Desktop/TF2/picture/beanMilk/beanMilk190.jpg\n",
      "F:/Desktop/TF2/picture/beanMilk/beanMilk200.jpg\n",
      "F:/Desktop/TF2/picture/beanMilk/beanMilk210.jpg\n",
      "F:/Desktop/TF2/picture/beanMilk/beanMilk220.jpg\n",
      "F:/Desktop/TF2/picture/beanMilk/beanMilk230.jpg\n",
      "F:/Desktop/TF2/picture/beanMilk/beanMilk240.jpg\n",
      "F:/Desktop/TF2/picture/beanMilk/beanMilk250.jpg\n",
      "F:/Desktop/TF2/picture/beanMilk/beanMilk260.jpg\n",
      "F:/Desktop/TF2/picture/beanMilk/beanMilk270.jpg\n",
      "F:/Desktop/TF2/picture/beanMilk/beanMilk280.jpg\n",
      "F:/Desktop/TF2/picture/beanMilk/beanMilk290.jpg\n",
      "F:/Desktop/TF2/picture/beanMilk/beanMilk300.jpg\n",
      "F:/Desktop/TF2/picture/beanMilk/beanMilk310.jpg\n",
      "F:/Desktop/TF2/picture/beanMilk/beanMilk320.jpg\n",
      "F:/Desktop/TF2/picture/beanMilk/beanMilk330.jpg\n",
      "F:/Desktop/TF2/picture/beanMilk/beanMilk340.jpg\n",
      "F:/Desktop/TF2/picture/beanMilk/beanMilk350.jpg\n",
      "F:/Desktop/TF2/picture/beanMilk/beanMilk360.jpg\n",
      "F:/Desktop/TF2/picture/beanMilk/beanMilk370.jpg\n",
      "F:/Desktop/TF2/picture/beanMilk/beanMilk380.jpg\n",
      "F:/Desktop/TF2/picture/beanMilk/beanMilk390.jpg\n",
      "F:/Desktop/TF2/picture/beanMilk/beanMilk400.jpg\n",
      "F:/Desktop/TF2/picture/beanMilk/beanMilk410.jpg\n",
      "F:/Desktop/TF2/picture/beanMilk/beanMilk420.jpg\n",
      "F:/Desktop/TF2/picture/beanMilk/beanMilk430.jpg\n",
      "F:/Desktop/TF2/picture/beanMilk/beanMilk440.jpg\n",
      "F:/Desktop/TF2/picture/beanMilk/beanMilk450.jpg\n"
     ]
    }
   ],
   "source": [
    "cap = cv2.VideoCapture(video_path)\n",
    "mkdir(picture_output_path)\n",
    "\n",
    "while True:\n",
    "    ret, image = cap.read()\n",
    "\n",
    "    if ret == True:\n",
    "#        gray = cv2.cvtColor(frame, cv2.COLOR_BGR2GRAY)\n",
    "#        cv2.imshow('frame',gray)   \n",
    "        # 获取图片尺寸并计算图片中心点\n",
    "        (h, w) = image.shape[:2]\n",
    "        center = (w/2, h/2)\n",
    "#        print('h = ',h, 'w = ',w)\n",
    "#         print(ret)\n",
    "#         center2 = np.array(center)\n",
    "#         print(center2)\n",
    "        cropped = image[:, int(w/2 - h/2): int(w/2 + h/2)]\n",
    "        M = cv2.getRotationMatrix2D(center, 0, 1)\n",
    "        rotated = cv2.warpAffine(cropped, M, (h, h))\n",
    "#        dest_image = rotated.resize(300,300)\n",
    "#        cv2.imshow(\"cropped\", cropped)\n",
    "#        cv2.waitKey(0) \n",
    "        if time % frameFrequency == 0:\n",
    "            picture_index = int(time / frameFrequency)\n",
    "            cv2.imwrite(picture_output_path + object_name + str(picture_index) + '.jpg', rotated)\n",
    "            if picture_index % 10 == 0:\n",
    "                print(picture_output_path + object_name + str(picture_index) + '.jpg') \n",
    "        time += 1\n",
    "    else:\n",
    "        break\n",
    "\n",
    "cap.release()"
   ]
  },
  {
   "cell_type": "code",
   "execution_count": null,
   "metadata": {},
   "outputs": [],
   "source": []
  }
 ],
 "metadata": {
  "kernelspec": {
   "display_name": "Python 3",
   "language": "python",
   "name": "python3"
  },
  "language_info": {
   "codemirror_mode": {
    "name": "ipython",
    "version": 3
   },
   "file_extension": ".py",
   "mimetype": "text/x-python",
   "name": "python",
   "nbconvert_exporter": "python",
   "pygments_lexer": "ipython3",
   "version": "3.6.7"
  },
  "varInspector": {
   "cols": {
    "lenName": 16,
    "lenType": 16,
    "lenVar": 40
   },
   "kernels_config": {
    "python": {
     "delete_cmd_postfix": "",
     "delete_cmd_prefix": "del ",
     "library": "var_list.py",
     "varRefreshCmd": "print(var_dic_list())"
    },
    "r": {
     "delete_cmd_postfix": ") ",
     "delete_cmd_prefix": "rm(",
     "library": "var_list.r",
     "varRefreshCmd": "cat(var_dic_list()) "
    }
   },
   "types_to_exclude": [
    "module",
    "function",
    "builtin_function_or_method",
    "instance",
    "_Feature"
   ],
   "window_display": false
  }
 },
 "nbformat": 4,
 "nbformat_minor": 2
}
